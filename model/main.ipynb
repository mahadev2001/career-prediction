{
 "cells": [
  {
   "cell_type": "code",
   "execution_count": 1,
   "metadata": {
    "execution": {
     "iopub.execute_input": "2021-05-21T09:14:42.293965Z",
     "iopub.status.busy": "2021-05-21T09:14:42.293578Z",
     "iopub.status.idle": "2021-05-21T09:14:42.300598Z",
     "shell.execute_reply": "2021-05-21T09:14:42.299138Z",
     "shell.execute_reply.started": "2021-05-21T09:14:42.293932Z"
    },
    "id": "3O4QInfbnvsJ"
   },
   "outputs": [],
   "source": [
    "import pandas as pd\n",
    "import numpy as np\n",
    "import matplotlib.pyplot as plt\n",
    "import seaborn as sns\n",
    "from sklearn.model_selection import train_test_split\n",
    "from sklearn.metrics import confusion_matrix,accuracy_score\n",
    "from sklearn import tree,svm\n",
    "from sklearn.ensemble import RandomForestClassifier"
   ]
  },
  {
   "cell_type": "code",
   "execution_count": 2,
   "metadata": {
    "colab": {
     "base_uri": "https://localhost:8080/",
     "height": 478
    },
    "execution": {
     "iopub.execute_input": "2021-05-21T09:14:43.702487Z",
     "iopub.status.busy": "2021-05-21T09:14:43.701875Z",
     "iopub.status.idle": "2021-05-21T09:14:43.913694Z",
     "shell.execute_reply": "2021-05-21T09:14:43.912306Z",
     "shell.execute_reply.started": "2021-05-21T09:14:43.702436Z"
    },
    "id": "wNkB6q2KnvsK",
    "outputId": "5352eaab-c02b-400f-f7b6-812760ce1009"
   },
   "outputs": [
    {
     "data": {
      "text/html": [
       "<div>\n",
       "<style scoped>\n",
       "    .dataframe tbody tr th:only-of-type {\n",
       "        vertical-align: middle;\n",
       "    }\n",
       "\n",
       "    .dataframe tbody tr th {\n",
       "        vertical-align: top;\n",
       "    }\n",
       "\n",
       "    .dataframe thead th {\n",
       "        text-align: right;\n",
       "    }\n",
       "</style>\n",
       "<table border=\"1\" class=\"dataframe\">\n",
       "  <thead>\n",
       "    <tr style=\"text-align: right;\">\n",
       "      <th></th>\n",
       "      <th>Logical quotient rating</th>\n",
       "      <th>hackathons</th>\n",
       "      <th>coding skills rating</th>\n",
       "      <th>public speaking points</th>\n",
       "      <th>self-learning capability?</th>\n",
       "      <th>Extra-courses did</th>\n",
       "      <th>certifications</th>\n",
       "      <th>reading and writing skills</th>\n",
       "      <th>memory capability score</th>\n",
       "      <th>Interested subjects</th>\n",
       "      <th>interested career area</th>\n",
       "      <th>Type of company want to settle in?</th>\n",
       "      <th>Taken inputs from seniors or elders</th>\n",
       "      <th>Management or Technical</th>\n",
       "      <th>hard/smart worker</th>\n",
       "      <th>worked in teams ever?</th>\n",
       "      <th>Introvert</th>\n",
       "      <th>Suggested Job Role</th>\n",
       "    </tr>\n",
       "  </thead>\n",
       "  <tbody>\n",
       "    <tr>\n",
       "      <th>0</th>\n",
       "      <td>5</td>\n",
       "      <td>0</td>\n",
       "      <td>6</td>\n",
       "      <td>2</td>\n",
       "      <td>yes</td>\n",
       "      <td>no</td>\n",
       "      <td>information security</td>\n",
       "      <td>poor</td>\n",
       "      <td>poor</td>\n",
       "      <td>programming</td>\n",
       "      <td>testing</td>\n",
       "      <td>BPA</td>\n",
       "      <td>no</td>\n",
       "      <td>Management</td>\n",
       "      <td>smart worker</td>\n",
       "      <td>yes</td>\n",
       "      <td>no</td>\n",
       "      <td>Applications Developer</td>\n",
       "    </tr>\n",
       "    <tr>\n",
       "      <th>1</th>\n",
       "      <td>7</td>\n",
       "      <td>6</td>\n",
       "      <td>4</td>\n",
       "      <td>3</td>\n",
       "      <td>no</td>\n",
       "      <td>yes</td>\n",
       "      <td>shell programming</td>\n",
       "      <td>excellent</td>\n",
       "      <td>medium</td>\n",
       "      <td>Management</td>\n",
       "      <td>system developer</td>\n",
       "      <td>Cloud Services</td>\n",
       "      <td>yes</td>\n",
       "      <td>Technical</td>\n",
       "      <td>hard worker</td>\n",
       "      <td>no</td>\n",
       "      <td>yes</td>\n",
       "      <td>Applications Developer</td>\n",
       "    </tr>\n",
       "    <tr>\n",
       "      <th>2</th>\n",
       "      <td>2</td>\n",
       "      <td>3</td>\n",
       "      <td>9</td>\n",
       "      <td>1</td>\n",
       "      <td>no</td>\n",
       "      <td>yes</td>\n",
       "      <td>information security</td>\n",
       "      <td>excellent</td>\n",
       "      <td>poor</td>\n",
       "      <td>data engineering</td>\n",
       "      <td>Business process analyst</td>\n",
       "      <td>product development</td>\n",
       "      <td>yes</td>\n",
       "      <td>Technical</td>\n",
       "      <td>smart worker</td>\n",
       "      <td>no</td>\n",
       "      <td>no</td>\n",
       "      <td>Applications Developer</td>\n",
       "    </tr>\n",
       "    <tr>\n",
       "      <th>3</th>\n",
       "      <td>2</td>\n",
       "      <td>6</td>\n",
       "      <td>3</td>\n",
       "      <td>5</td>\n",
       "      <td>no</td>\n",
       "      <td>yes</td>\n",
       "      <td>r programming</td>\n",
       "      <td>excellent</td>\n",
       "      <td>poor</td>\n",
       "      <td>networks</td>\n",
       "      <td>testing</td>\n",
       "      <td>Testing and Maintainance Services</td>\n",
       "      <td>yes</td>\n",
       "      <td>Management</td>\n",
       "      <td>smart worker</td>\n",
       "      <td>yes</td>\n",
       "      <td>yes</td>\n",
       "      <td>Applications Developer</td>\n",
       "    </tr>\n",
       "    <tr>\n",
       "      <th>4</th>\n",
       "      <td>2</td>\n",
       "      <td>0</td>\n",
       "      <td>3</td>\n",
       "      <td>4</td>\n",
       "      <td>yes</td>\n",
       "      <td>no</td>\n",
       "      <td>distro making</td>\n",
       "      <td>excellent</td>\n",
       "      <td>medium</td>\n",
       "      <td>Software Engineering</td>\n",
       "      <td>system developer</td>\n",
       "      <td>BPA</td>\n",
       "      <td>no</td>\n",
       "      <td>Technical</td>\n",
       "      <td>hard worker</td>\n",
       "      <td>yes</td>\n",
       "      <td>no</td>\n",
       "      <td>Applications Developer</td>\n",
       "    </tr>\n",
       "  </tbody>\n",
       "</table>\n",
       "</div>"
      ],
      "text/plain": [
       "   Logical quotient rating  hackathons  coding skills rating  \\\n",
       "0                        5           0                     6   \n",
       "1                        7           6                     4   \n",
       "2                        2           3                     9   \n",
       "3                        2           6                     3   \n",
       "4                        2           0                     3   \n",
       "\n",
       "   public speaking points self-learning capability? Extra-courses did  \\\n",
       "0                       2                       yes                no   \n",
       "1                       3                        no               yes   \n",
       "2                       1                        no               yes   \n",
       "3                       5                        no               yes   \n",
       "4                       4                       yes                no   \n",
       "\n",
       "         certifications reading and writing skills memory capability score  \\\n",
       "0  information security                       poor                    poor   \n",
       "1     shell programming                  excellent                  medium   \n",
       "2  information security                  excellent                    poor   \n",
       "3         r programming                  excellent                    poor   \n",
       "4         distro making                  excellent                  medium   \n",
       "\n",
       "    Interested subjects   interested career area   \\\n",
       "0           programming                   testing   \n",
       "1            Management          system developer   \n",
       "2      data engineering  Business process analyst   \n",
       "3              networks                   testing   \n",
       "4  Software Engineering          system developer   \n",
       "\n",
       "  Type of company want to settle in? Taken inputs from seniors or elders  \\\n",
       "0                                BPA                                  no   \n",
       "1                     Cloud Services                                 yes   \n",
       "2                product development                                 yes   \n",
       "3  Testing and Maintainance Services                                 yes   \n",
       "4                                BPA                                  no   \n",
       "\n",
       "  Management or Technical hard/smart worker worked in teams ever? Introvert  \\\n",
       "0              Management      smart worker                   yes        no   \n",
       "1               Technical       hard worker                    no       yes   \n",
       "2               Technical      smart worker                    no        no   \n",
       "3              Management      smart worker                   yes       yes   \n",
       "4               Technical       hard worker                   yes        no   \n",
       "\n",
       "       Suggested Job Role  \n",
       "0  Applications Developer  \n",
       "1  Applications Developer  \n",
       "2  Applications Developer  \n",
       "3  Applications Developer  \n",
       "4  Applications Developer  "
      ]
     },
     "execution_count": 2,
     "metadata": {},
     "output_type": "execute_result"
    }
   ],
   "source": [
    "df = pd.read_csv('mldata.csv')\n",
    "df.head()"
   ]
  },
  {
   "cell_type": "code",
   "execution_count": 3,
   "metadata": {
    "colab": {
     "base_uri": "https://localhost:8080/"
    },
    "execution": {
     "iopub.execute_input": "2021-05-21T09:14:44.069016Z",
     "iopub.status.busy": "2021-05-21T09:14:44.068615Z",
     "iopub.status.idle": "2021-05-21T09:14:44.074579Z",
     "shell.execute_reply": "2021-05-21T09:14:44.073475Z",
     "shell.execute_reply.started": "2021-05-21T09:14:44.068982Z"
    },
    "id": "ltsRl6W4nvsM",
    "outputId": "d8a93e67-ae43-4852-fce9-6900c236da60"
   },
   "outputs": [
    {
     "name": "stdout",
     "output_type": "stream",
     "text": [
      "The shape of our training set: 6901 professionals and 18 features\n"
     ]
    }
   ],
   "source": [
    "print('The shape of our training set: %s professionals and %s features'%(df.shape[0],df.shape[1]))"
   ]
  },
  {
   "cell_type": "markdown",
   "metadata": {
    "id": "VBLn23iPnvsM"
   },
   "source": [
    "Data Preprocessing"
   ]
  },
  {
   "cell_type": "code",
   "execution_count": 4,
   "metadata": {
    "colab": {
     "base_uri": "https://localhost:8080/"
    },
    "execution": {
     "iopub.execute_input": "2021-05-21T09:14:45.700499Z",
     "iopub.status.busy": "2021-05-21T09:14:45.700099Z",
     "iopub.status.idle": "2021-05-21T09:14:45.706846Z",
     "shell.execute_reply": "2021-05-21T09:14:45.705700Z",
     "shell.execute_reply.started": "2021-05-21T09:14:45.700466Z"
    },
    "id": "G4x9P8uVnvsM",
    "outputId": "4aeebee3-040a-4a71-a29e-cbb0b5421ae3"
   },
   "outputs": [
    {
     "name": "stdout",
     "output_type": "stream",
     "text": [
      "Columns in our dataset:  Index(['Logical quotient rating', 'hackathons', 'coding skills rating',\n",
      "       'public speaking points', 'self-learning capability?',\n",
      "       'Extra-courses did', 'certifications', 'reading and writing skills',\n",
      "       'memory capability score', 'Interested subjects',\n",
      "       'interested career area ', 'Type of company want to settle in?',\n",
      "       'Taken inputs from seniors or elders', 'Management or Technical',\n",
      "       'hard/smart worker', 'worked in teams ever?', 'Introvert',\n",
      "       'Suggested Job Role'],\n",
      "      dtype='object')\n"
     ]
    }
   ],
   "source": [
    "print(\"Columns in our dataset: \" , df.columns)"
   ]
  },
  {
   "cell_type": "code",
   "execution_count": 5,
   "metadata": {
    "colab": {
     "base_uri": "https://localhost:8080/"
    },
    "execution": {
     "iopub.execute_input": "2021-05-21T09:14:46.244503Z",
     "iopub.status.busy": "2021-05-21T09:14:46.244091Z",
     "iopub.status.idle": "2021-05-21T09:14:46.257358Z",
     "shell.execute_reply": "2021-05-21T09:14:46.256153Z",
     "shell.execute_reply.started": "2021-05-21T09:14:46.244469Z"
    },
    "id": "kGS02aJanvsN",
    "outputId": "8342ab35-d370-40ee-e62c-f250005c2933"
   },
   "outputs": [
    {
     "name": "stdout",
     "output_type": "stream",
     "text": [
      "List of Numerical features: \n",
      " ['Logical quotient rating', 'hackathons', 'coding skills rating', 'public speaking points']\n",
      "\n",
      "\n",
      "List of Categorical features: \n",
      " ['self-learning capability?', 'Extra-courses did', 'certifications', 'reading and writing skills', 'memory capability score', 'Interested subjects', 'interested career area ', 'Type of company want to settle in?', 'Taken inputs from seniors or elders', 'Management or Technical', 'hard/smart worker', 'worked in teams ever?', 'Introvert', 'Suggested Job Role']\n"
     ]
    }
   ],
   "source": [
    "print(\"List of Numerical features: \\n\" , df.select_dtypes(include=np.number).columns.tolist())\n",
    "print(\"\\n\\nList of Categorical features: \\n\" , df.select_dtypes(include=['object']).columns.tolist())"
   ]
  },
  {
   "cell_type": "markdown",
   "metadata": {
    "id": "rDihSK6DnvsN"
   },
   "source": [
    "Checking Missing Values"
   ]
  },
  {
   "cell_type": "code",
   "execution_count": 6,
   "metadata": {
    "colab": {
     "base_uri": "https://localhost:8080/"
    },
    "execution": {
     "iopub.execute_input": "2021-05-21T09:14:47.285358Z",
     "iopub.status.busy": "2021-05-21T09:14:47.284983Z",
     "iopub.status.idle": "2021-05-21T09:14:47.307445Z",
     "shell.execute_reply": "2021-05-21T09:14:47.306040Z",
     "shell.execute_reply.started": "2021-05-21T09:14:47.285328Z"
    },
    "id": "AiDebgNBnvsN",
    "outputId": "19e338b0-6b23-41de-ec1f-6fa613a1129e"
   },
   "outputs": [
    {
     "data": {
      "text/plain": [
       "Logical quotient rating                0\n",
       "hackathons                             0\n",
       "coding skills rating                   0\n",
       "public speaking points                 0\n",
       "self-learning capability?              0\n",
       "Extra-courses did                      0\n",
       "certifications                         0\n",
       "reading and writing skills             0\n",
       "memory capability score                0\n",
       "Interested subjects                    0\n",
       "interested career area                 0\n",
       "Type of company want to settle in?     0\n",
       "Taken inputs from seniors or elders    0\n",
       "Management or Technical                0\n",
       "hard/smart worker                      0\n",
       "worked in teams ever?                  0\n",
       "Introvert                              0\n",
       "Suggested Job Role                     0\n",
       "dtype: int64"
      ]
     },
     "execution_count": 6,
     "metadata": {},
     "output_type": "execute_result"
    }
   ],
   "source": [
    "df.isnull().sum(axis=0)"
   ]
  },
  {
   "cell_type": "markdown",
   "metadata": {
    "id": "SWn1DpK8nvsO"
   },
   "source": [
    "**Observation: No missing values.**"
   ]
  },
  {
   "cell_type": "markdown",
   "metadata": {
    "id": "Vs74T0n_nvsO"
   },
   "source": [
    "Distinct Values for Categorical Features"
   ]
  },
  {
   "cell_type": "code",
   "execution_count": 7,
   "metadata": {
    "colab": {
     "base_uri": "https://localhost:8080/"
    },
    "execution": {
     "iopub.execute_input": "2021-05-21T09:14:48.679051Z",
     "iopub.status.busy": "2021-05-21T09:14:48.678627Z",
     "iopub.status.idle": "2021-05-21T09:14:48.733352Z",
     "shell.execute_reply": "2021-05-21T09:14:48.731989Z",
     "shell.execute_reply.started": "2021-05-21T09:14:48.679014Z"
    },
    "id": "YjcxYPjsnvsO",
    "outputId": "be53f25f-9957-488f-cbc6-b782c78d5892"
   },
   "outputs": [
    {
     "name": "stdout",
     "output_type": "stream",
     "text": [
      "yes    3496\n",
      "no     3405\n",
      "Name: self-learning capability?, dtype: int64\n",
      "\n",
      "no     3529\n",
      "yes    3372\n",
      "Name: Extra-courses did, dtype: int64\n",
      "\n",
      "excellent    2328\n",
      "medium       2315\n",
      "poor         2258\n",
      "Name: reading and writing skills, dtype: int64\n",
      "\n",
      "medium       2317\n",
      "excellent    2303\n",
      "poor         2281\n",
      "Name: memory capability score, dtype: int64\n",
      "\n",
      "yes    3501\n",
      "no     3400\n",
      "Name: Taken inputs from seniors or elders, dtype: int64\n",
      "\n",
      "Management    3461\n",
      "Technical     3440\n",
      "Name: Management or Technical, dtype: int64\n",
      "\n",
      "smart worker    3523\n",
      "hard worker     3378\n",
      "Name: hard/smart worker, dtype: int64\n",
      "\n",
      "no     3470\n",
      "yes    3431\n",
      "Name: worked in teams ever?, dtype: int64\n",
      "\n",
      "yes    3544\n",
      "no     3357\n",
      "Name: Introvert, dtype: int64\n",
      "\n",
      "system developer            1178\n",
      "security                    1177\n",
      "Business process analyst    1154\n",
      "developer                   1145\n",
      "testing                     1128\n",
      "cloud computing             1119\n",
      "Name: interested career area , dtype: int64\n",
      "\n"
     ]
    }
   ],
   "source": [
    "categorical_col = df[['self-learning capability?', 'Extra-courses did','reading and writing skills', 'memory capability score', \n",
    "                      'Taken inputs from seniors or elders', 'Management or Technical', 'hard/smart worker', 'worked in teams ever?', \n",
    "                      'Introvert', 'interested career area ']]\n",
    "for i in categorical_col:\n",
    "    print(df[i].value_counts(), end=\"\\n\\n\")"
   ]
  },
  {
   "cell_type": "markdown",
   "metadata": {
    "id": "y9xgVJ4InvsP"
   },
   "source": [
    "Data Balancing for Classification"
   ]
  },
  {
   "cell_type": "code",
   "execution_count": 8,
   "metadata": {
    "colab": {
     "base_uri": "https://localhost:8080/",
     "height": 329
    },
    "execution": {
     "iopub.execute_input": "2021-05-21T09:14:49.890509Z",
     "iopub.status.busy": "2021-05-21T09:14:49.890026Z",
     "iopub.status.idle": "2021-05-21T09:14:50.273797Z",
     "shell.execute_reply": "2021-05-21T09:14:50.272538Z",
     "shell.execute_reply.started": "2021-05-21T09:14:49.890449Z"
    },
    "id": "yU5WHcM4nvsP",
    "outputId": "d1a51f4d-c528-486f-a15f-35a2a5a73105"
   },
   "outputs": [
    {
     "data": {
      "text/plain": [
       "<AxesSubplot:xlabel='Suggested Job Role', ylabel='count'>"
      ]
     },
     "execution_count": 8,
     "metadata": {},
     "output_type": "execute_result"
    },
    {
     "data": {
      "image/png": "[encoded data removed]",
      "text/plain": [
       "<Figure size 3600x720 with 1 Axes>"
      ]
     },
     "metadata": {},
     "output_type": "display_data"
    }
   ],
   "source": [
    "sns.set(rc={'figure.figsize':(50,10)})\n",
    "sns.countplot(x = df[\"Suggested Job Role\"])"
   ]
  },
  {
   "cell_type": "markdown",
   "metadata": {
    "id": "vvIlLuGKnvsP"
   },
   "source": [
    "Correlation Between Numerical Features"
   ]
  },
  {
   "cell_type": "code",
   "execution_count": 9,
   "metadata": {
    "colab": {
     "base_uri": "https://localhost:8080/",
     "height": 681
    },
    "execution": {
     "iopub.execute_input": "2021-05-21T09:14:51.054559Z",
     "iopub.status.busy": "2021-05-21T09:14:51.053970Z",
     "iopub.status.idle": "2021-05-21T09:14:51.424792Z",
     "shell.execute_reply": "2021-05-21T09:14:51.423212Z",
     "shell.execute_reply.started": "2021-05-21T09:14:51.054502Z"
    },
    "id": "Im-i1LRYnvsQ",
    "outputId": "675d1428-a54f-4a39-ef06-59ef70b659b2"
   },
   "outputs": [
    {
     "data": {
      "text/plain": [
       "<AxesSubplot:>"
      ]
     },
     "execution_count": 9,
     "metadata": {},
     "output_type": "execute_result"
    },
    {
     "data": {
      "image/png": "[encoded data removed]",
      "text/plain": [
       "<Figure size 720x720 with 2 Axes>"
      ]
     },
     "metadata": {},
     "output_type": "display_data"
    }
   ],
   "source": [
    "corr = df[['Logical quotient rating', 'hackathons', \n",
    "           'coding skills rating', 'public speaking points']].corr()\n",
    "f,axes = plt.subplots(1,1,figsize = (10,10))\n",
    "sns.heatmap(corr,square=True,annot = True,linewidth = .4,center = 2,ax = axes)"
   ]
  },
  {
   "cell_type": "markdown",
   "metadata": {
    "id": "WU7LNx2vnvsQ"
   },
   "source": [
    "No highly corelated numerical pair found"
   ]
  },
  {
   "cell_type": "markdown",
   "metadata": {
    "id": "WtKUpUV1nvsQ"
   },
   "source": [
    "Visualization for Categorical Variables"
   ]
  },
  {
   "cell_type": "code",
   "execution_count": 10,
   "metadata": {
    "colab": {
     "base_uri": "https://localhost:8080/"
    },
    "execution": {
     "iopub.execute_input": "2021-05-21T09:14:52.138482Z",
     "iopub.status.busy": "2021-05-21T09:14:52.138050Z",
     "iopub.status.idle": "2021-05-21T09:14:52.148135Z",
     "shell.execute_reply": "2021-05-21T09:14:52.146704Z",
     "shell.execute_reply.started": "2021-05-21T09:14:52.138446Z"
    },
    "id": "ZdrglUfhnvsR",
    "outputId": "15873466-5786-40be-afe7-8d2e7dc3819b"
   },
   "outputs": [
    {
     "name": "stdout",
     "output_type": "stream",
     "text": [
      "Software Engineering      731\n",
      "IOT                       722\n",
      "cloud computing domain    721\n",
      "programming               716\n",
      "networks                  713\n",
      "Computer Architecture     703\n",
      "data engineering          672\n",
      "hacking                   663\n",
      "Management                644\n",
      "parallel computing        616\n",
      "Name: Interested subjects, dtype: int64\n"
     ]
    }
   ],
   "source": [
    "print(df[\"Interested subjects\"].value_counts())"
   ]
  },
  {
   "cell_type": "code",
   "execution_count": 11,
   "metadata": {
    "colab": {
     "base_uri": "https://localhost:8080/",
     "height": 416
    },
    "execution": {
     "iopub.execute_input": "2021-05-21T09:14:52.547914Z",
     "iopub.status.busy": "2021-05-21T09:14:52.547550Z",
     "iopub.status.idle": "2021-05-21T09:14:52.847939Z",
     "shell.execute_reply": "2021-05-21T09:14:52.846740Z",
     "shell.execute_reply.started": "2021-05-21T09:14:52.547884Z"
    },
    "id": "y9uKD9oanvsR",
    "outputId": "1f034440-3288-4596-d2d9-690e0db20c0c"
   },
   "outputs": [
    {
     "data": {
      "image/png": "[encoded data removed]",
      "text/plain": [
       "<Figure size 864x432 with 1 Axes>"
      ]
     },
     "metadata": {},
     "output_type": "display_data"
    }
   ],
   "source": [
    "# Figure Size\n",
    "fig, ax = plt.subplots(figsize=(12,6))\n",
    "\n",
    "# Horizontal Bar Plot\n",
    "title_cnt=df[\"Interested subjects\"].value_counts().sort_values(ascending=False).reset_index()\n",
    "mn= ax.barh(title_cnt.iloc[:,0], title_cnt.iloc[:,1],edgecolor='black', color=sns.color_palette('pastel',len(title_cnt)))\n",
    "\n",
    "\n",
    "\n",
    "\n",
    "# Remove axes splines\n",
    "for s in ['top','bottom','left','right']:\n",
    "    ax.spines[s].set_visible(False)\n",
    "\n",
    "# Remove x,y Ticks\n",
    "ax.xaxis.set_ticks_position('none')\n",
    "ax.yaxis.set_ticks_position('none')\n",
    "# Add padding between axes and labels\n",
    "ax.xaxis.set_tick_params(pad=5)\n",
    "ax.yaxis.set_tick_params(pad=10)\n",
    "\n",
    "\n",
    "# Show top values \n",
    "ax.invert_yaxis()\n",
    "\n",
    "# Add Plot Title\n",
    "ax.set_title('Interested Subjects',weight='bold',fontsize=20)\n",
    "ax.set_xlabel('Count', weight='bold')\n",
    "\n",
    "# Add annotation to bars\n",
    "for i in ax.patches:\n",
    "    ax.text(i.get_width()+1, i.get_y()+0.5, str(round((i.get_width()), 2)),\n",
    "             fontsize=10, fontweight='bold', color='grey')\n",
    "plt.yticks(weight='bold')\n",
    "plt.xticks(weight='bold')\n",
    "\n",
    "# Show Plot\n",
    "plt.show()"
   ]
  },
  {
   "cell_type": "code",
   "execution_count": 12,
   "metadata": {
    "colab": {
     "base_uri": "https://localhost:8080/"
    },
    "execution": {
     "iopub.execute_input": "2021-05-21T09:14:53.930671Z",
     "iopub.status.busy": "2021-05-21T09:14:53.930201Z",
     "iopub.status.idle": "2021-05-21T09:14:53.940055Z",
     "shell.execute_reply": "2021-05-21T09:14:53.939127Z",
     "shell.execute_reply.started": "2021-05-21T09:14:53.930625Z"
    },
    "id": "lt8n5sTqnvsT",
    "outputId": "07cfbd46-5fd0-46b7-a623-72a10416732c"
   },
   "outputs": [
    {
     "name": "stdout",
     "output_type": "stream",
     "text": [
      "r programming           803\n",
      "information security    785\n",
      "shell programming       783\n",
      "machine learning        783\n",
      "full stack              768\n",
      "hadoop                  764\n",
      "python                  756\n",
      "distro making           740\n",
      "app development         719\n",
      "Name: certifications, dtype: int64\n"
     ]
    }
   ],
   "source": [
    "print(df[\"certifications\"].value_counts())"
   ]
  },
  {
   "cell_type": "code",
   "execution_count": 13,
   "metadata": {
    "colab": {
     "base_uri": "https://localhost:8080/",
     "height": 416
    },
    "execution": {
     "iopub.execute_input": "2021-05-21T09:14:54.083771Z",
     "iopub.status.busy": "2021-05-21T09:14:54.083157Z",
     "iopub.status.idle": "2021-05-21T09:14:54.383606Z",
     "shell.execute_reply": "2021-05-21T09:14:54.382132Z",
     "shell.execute_reply.started": "2021-05-21T09:14:54.083716Z"
    },
    "id": "LuRQ6Dz0nvsT",
    "outputId": "38f58617-5609-46dc-94b4-15c1cfcd0392"
   },
   "outputs": [
    {
     "data": {
      "image/png": "[encoded data removed]",
      "text/plain": [
       "<Figure size 864x432 with 1 Axes>"
      ]
     },
     "metadata": {},
     "output_type": "display_data"
    }
   ],
   "source": [
    "# Figure Size\n",
    "fig, ax = plt.subplots(figsize=(12,6))\n",
    "\n",
    "# Horizontal Bar Plot\n",
    "title_cnt=df.certifications.value_counts().sort_values(ascending=False).reset_index()\n",
    "mn= ax.barh(title_cnt.iloc[:,0], title_cnt.iloc[:,1],edgecolor='black', color=sns.color_palette('pastel',len(title_cnt)))\n",
    "\n",
    "\n",
    "\n",
    "# Remove axes splines\n",
    "for s in ['top','bottom','left','right']:\n",
    "    ax.spines[s].set_visible(False)\n",
    "\n",
    "# Remove x,y Ticks\n",
    "ax.xaxis.set_ticks_position('none')\n",
    "ax.yaxis.set_ticks_position('none')\n",
    "# Add padding between axes and labels\n",
    "ax.xaxis.set_tick_params(pad=5)\n",
    "ax.yaxis.set_tick_params(pad=10)\n",
    "\n",
    "\n",
    "# Show top values \n",
    "ax.invert_yaxis()\n",
    "\n",
    "# Add Plot Title\n",
    "ax.set_title('Certifications',weight='bold',fontsize=20)\n",
    "ax.set_xlabel('Count', weight='bold')\n",
    "\n",
    "# Add annotation to bars\n",
    "for i in ax.patches:\n",
    "    ax.text(i.get_width()+1, i.get_y()+0.5, str(round((i.get_width()), 2)),\n",
    "             fontsize=10, fontweight='bold', color='grey')\n",
    "plt.yticks(weight='bold')\n",
    "plt.xticks(weight='bold')\n",
    "\n",
    "# Show Plot\n",
    "plt.show()"
   ]
  },
  {
   "cell_type": "code",
   "execution_count": 14,
   "metadata": {
    "colab": {
     "base_uri": "https://localhost:8080/"
    },
    "execution": {
     "iopub.execute_input": "2021-05-21T09:14:56.103870Z",
     "iopub.status.busy": "2021-05-21T09:14:56.103480Z",
     "iopub.status.idle": "2021-05-21T09:14:56.115234Z",
     "shell.execute_reply": "2021-05-21T09:14:56.113820Z",
     "shell.execute_reply.started": "2021-05-21T09:14:56.103825Z"
    },
    "id": "1414N3OanvsU",
    "outputId": "03cd497f-38b3-4e55-c694-a0e837c1889f"
   },
   "outputs": [
    {
     "name": "stdout",
     "output_type": "stream",
     "text": [
      "Service Based                        725\n",
      "Web Services                         719\n",
      "BPA                                  711\n",
      "Testing and Maintainance Services    698\n",
      "Product based                        695\n",
      "Finance                              694\n",
      "Cloud Services                       692\n",
      "product development                  669\n",
      "Sales and Marketing                  658\n",
      "SAaS services                        640\n",
      "Name: Type of company want to settle in?, dtype: int64\n"
     ]
    }
   ],
   "source": [
    "print(df[\"Type of company want to settle in?\"].value_counts())"
   ]
  },
  {
   "cell_type": "code",
   "execution_count": 15,
   "metadata": {
    "colab": {
     "base_uri": "https://localhost:8080/",
     "height": 416
    },
    "execution": {
     "iopub.execute_input": "2021-05-21T09:14:56.462673Z",
     "iopub.status.busy": "2021-05-21T09:14:56.462316Z",
     "iopub.status.idle": "2021-05-21T09:14:56.756488Z",
     "shell.execute_reply": "2021-05-21T09:14:56.755426Z",
     "shell.execute_reply.started": "2021-05-21T09:14:56.462643Z"
    },
    "id": "lyq6FgRYnvsU",
    "outputId": "2fb10165-1e85-4027-cef9-6b44fea3c0bd"
   },
   "outputs": [
    {
     "data": {
      "image/png": "[encoded data removed]",
      "text/plain": [
       "<Figure size 864x432 with 1 Axes>"
      ]
     },
     "metadata": {},
     "output_type": "display_data"
    }
   ],
   "source": [
    "# Figure Size\n",
    "fig, ax = plt.subplots(figsize=(12,6))\n",
    "\n",
    "# Horizontal Bar Plot\n",
    "title_cnt=df[\"Type of company want to settle in?\"].value_counts().sort_values(ascending=False).reset_index()\n",
    "mn= ax.barh(title_cnt.iloc[:,0], title_cnt.iloc[:,1],edgecolor='black', color=sns.color_palette('pastel',len(title_cnt)))\n",
    "\n",
    "\n",
    "\n",
    "# Remove axes splines\n",
    "for s in ['top','bottom','left','right']:\n",
    "    ax.spines[s].set_visible(False)\n",
    "\n",
    "# Remove x,y Ticks\n",
    "ax.xaxis.set_ticks_position('none')\n",
    "ax.yaxis.set_ticks_position('none')\n",
    "# Add padding between axes and labels\n",
    "ax.xaxis.set_tick_params(pad=5)\n",
    "ax.yaxis.set_tick_params(pad=10)\n",
    "\n",
    "\n",
    "# Show top values \n",
    "ax.invert_yaxis()\n",
    "\n",
    "# Add Plot Title\n",
    "ax.set_title('Type of Company you want to settle in?',weight='bold',fontsize=20)\n",
    "ax.set_xlabel('Count', weight='bold')\n",
    "\n",
    "# Add annotation to bars\n",
    "for i in ax.patches:\n",
    "    ax.text(i.get_width()+1, i.get_y()+0.5, str(round((i.get_width()), 2)),\n",
    "             fontsize=10, fontweight='bold', color='grey')\n",
    "plt.yticks(weight='bold')\n",
    "plt.xticks(weight='bold')\n",
    "\n",
    "# Show Plot\n",
    "plt.show()"
   ]
  },
  {
   "cell_type": "code",
   "execution_count": 16,
   "metadata": {
    "colab": {
     "base_uri": "https://localhost:8080/"
    },
    "execution": {
     "iopub.execute_input": "2021-05-21T09:14:57.704002Z",
     "iopub.status.busy": "2021-05-21T09:14:57.703617Z",
     "iopub.status.idle": "2021-05-21T09:14:57.714005Z",
     "shell.execute_reply": "2021-05-21T09:14:57.712713Z",
     "shell.execute_reply.started": "2021-05-21T09:14:57.703967Z"
    },
    "id": "aS_BFJGLnvsV",
    "outputId": "a3cf8a84-9cbe-456d-a0c9-3f2d47f8e034"
   },
   "outputs": [
    {
     "name": "stdout",
     "output_type": "stream",
     "text": [
      "system developer            1178\n",
      "security                    1177\n",
      "Business process analyst    1154\n",
      "developer                   1145\n",
      "testing                     1128\n",
      "cloud computing             1119\n",
      "Name: interested career area , dtype: int64\n"
     ]
    }
   ],
   "source": [
    "print(df[\"interested career area \"].value_counts())"
   ]
  },
  {
   "cell_type": "code",
   "execution_count": 17,
   "metadata": {
    "colab": {
     "base_uri": "https://localhost:8080/",
     "height": 307
    },
    "execution": {
     "iopub.execute_input": "2021-05-21T09:14:58.064643Z",
     "iopub.status.busy": "2021-05-21T09:14:58.064306Z",
     "iopub.status.idle": "2021-05-21T09:14:58.293301Z",
     "shell.execute_reply": "2021-05-21T09:14:58.292464Z",
     "shell.execute_reply.started": "2021-05-21T09:14:58.064614Z"
    },
    "id": "-bivx1mBnvsV",
    "outputId": "4c42d999-ce3f-45a2-ab53-62224df9c828"
   },
   "outputs": [
    {
     "data": {
      "image/png": "[encoded data removed]",
      "text/plain": [
       "<Figure size 720x288 with 1 Axes>"
      ]
     },
     "metadata": {},
     "output_type": "display_data"
    }
   ],
   "source": [
    "# Figure Size\n",
    "fig, ax = plt.subplots(figsize=(10,4)) #width,height\n",
    "\n",
    "# Horizontal Bar Plot\n",
    "title_cnt=df[\"interested career area \"].value_counts().sort_values(ascending=False).reset_index()\n",
    "mn= ax.barh(title_cnt.iloc[:,0], title_cnt.iloc[:,1],edgecolor='black', color=sns.color_palette('pastel',len(title_cnt)))\n",
    "\n",
    "\n",
    "\n",
    "# Remove axes splines\n",
    "for s in ['top','bottom','left','right']:\n",
    "    ax.spines[s].set_visible(False)\n",
    "\n",
    "# Remove x,y Ticks\n",
    "ax.xaxis.set_ticks_position('none')\n",
    "ax.yaxis.set_ticks_position('none')\n",
    "# Add padding between axes and labels\n",
    "ax.xaxis.set_tick_params(pad=5)\n",
    "ax.yaxis.set_tick_params(pad=10)\n",
    "\n",
    "\n",
    "# Show top values \n",
    "ax.invert_yaxis()\n",
    "\n",
    "# Add Plot Title\n",
    "ax.set_title('Interested Career Area ',weight='bold',fontsize=20)\n",
    "ax.set_xlabel('Count', weight='bold')\n",
    "\n",
    "# Add annotation to bars\n",
    "for i in ax.patches:\n",
    "    ax.text(i.get_width()+1, i.get_y()+0.5, str(round((i.get_width()), 2)),\n",
    "             fontsize=10, fontweight='bold', color='grey')\n",
    "plt.yticks(weight='bold')\n",
    "plt.xticks(weight='bold')\n",
    "\n",
    "# Show Plot\n",
    "plt.show()"
   ]
  },
  {
   "cell_type": "markdown",
   "metadata": {
    "id": "50coS2tVnvsV"
   },
   "source": [
    "Binary Encoding for Categorical Variables"
   ]
  },
  {
   "cell_type": "code",
   "execution_count": 18,
   "metadata": {
    "execution": {
     "iopub.execute_input": "2021-05-21T09:15:00.059997Z",
     "iopub.status.busy": "2021-05-21T09:15:00.059636Z",
     "iopub.status.idle": "2021-05-21T09:15:00.101071Z",
     "shell.execute_reply": "2021-05-21T09:15:00.100277Z",
     "shell.execute_reply.started": "2021-05-21T09:15:00.059968Z"
    },
    "id": "Terw8bu_nvsW"
   },
   "outputs": [],
   "source": [
    "cols = df[[\"self-learning capability?\", \"Extra-courses did\",\"Taken inputs from seniors or elders\", \"worked in teams ever?\", \"Introvert\",\"Management or Technical\",\"hard/smart worker\"]]\n",
    "for i in cols:\n",
    "    cleanup_nums = {i: {\"yes\": 1, \"no\": 0, \"smart worker\": 1, \"hard worker\": 0, \"Management\": 1, \"Technical\": 0}}\n",
    "\n",
    "    df = df.replace(cleanup_nums)"
   ]
  },
  {
   "cell_type": "markdown",
   "metadata": {
    "id": "naCq9Ho4nvsW"
   },
   "source": [
    "Number Encoding for Categorical "
   ]
  },
  {
   "cell_type": "code",
   "execution_count": 19,
   "metadata": {
    "colab": {
     "base_uri": "https://localhost:8080/"
    },
    "execution": {
     "iopub.execute_input": "2021-05-21T09:15:02.630142Z",
     "iopub.status.busy": "2021-05-21T09:15:02.629617Z",
     "iopub.status.idle": "2021-05-21T09:15:02.680281Z",
     "shell.execute_reply": "2021-05-21T09:15:02.679472Z",
     "shell.execute_reply.started": "2021-05-21T09:15:02.630109Z"
    },
    "id": "o5BMZKBNnvsW",
    "outputId": "fb955485-8f0b-47a4-f52f-aefdc6bcc266"
   },
   "outputs": [
    {
     "name": "stdout",
     "output_type": "stream",
     "text": [
      "\n",
      "\n",
      "List of Categorical features: \n",
      " ['Suggested Job Role']\n"
     ]
    }
   ],
   "source": [
    "mycol = df[['reading and writing skills', 'memory capability score', 'certifications', 'Management or Technical',\n",
    "            'hard/smart worker', 'Type of company want to settle in?', 'Interested subjects', 'interested career area ']]\n",
    "for i in mycol:\n",
    "    cleanup_nums = {i: {\"poor\": 0, \"medium\": 1, \"excellent\": 2, \"r programming\": 1, \"information security\": 2,\n",
    "                        \"shell programming\": 3, \"machine learning\": 4, \"full stack\": 5, \"hadoop\": 6, \"python\": 7, \n",
    "                        \"distro making\": 8, \"app development\": 9, \"Service Based\": 1, \"Web Services\": 2,\n",
    "                        \"BPA\": 3, \"Testing and Maintainance Services\": 4, \"Product based\": 5, \"Finance\": 6, \"Cloud Services\": 7, \n",
    "                        \"product development\": 8, \"Sales and Marketing\": 9, \"SAaS services\": 10, \"system developer\": 1, \"security\": 2,\n",
    "                        \"Business process analyst\": 3, \"developer\": 4, \"testing\": 5, \"cloud computing\": 6,\n",
    "                        \"Software Engineering\": 1, \"IOT\": 2, \"cloud computing domain\": 3, \"programming\": 4, \"networks\": 5, \"Computer Architecture\": 6, \"data engineering\": 7, \n",
    "                        \"hacking\": 8, \"Management\": 9, \"parallel computing\": 10}}\n",
    "    df = df.replace(cleanup_nums)\n",
    "\n",
    "\n",
    "print(\"\\n\\nList of Categorical features: \\n\" , df.select_dtypes(include=['object']).columns.tolist())"
   ]
  },
  {
   "cell_type": "markdown",
   "metadata": {
    "id": "0KHJbq6JnvsX"
   },
   "source": [
    "Dummy Variable Encoding"
   ]
  },
  {
   "cell_type": "code",
   "execution_count": 20,
   "metadata": {
    "colab": {
     "base_uri": "https://localhost:8080/",
     "height": 473
    },
    "execution": {
     "iopub.execute_input": "2021-05-21T09:15:05.552686Z",
     "iopub.status.busy": "2021-05-21T09:15:05.552121Z",
     "iopub.status.idle": "2021-05-21T09:15:05.585075Z",
     "shell.execute_reply": "2021-05-21T09:15:05.584283Z",
     "shell.execute_reply.started": "2021-05-21T09:15:05.552609Z"
    },
    "id": "-WHxOquCnvsX",
    "outputId": "4e4dc4b1-f63f-407b-9730-87b9883485e3"
   },
   "outputs": [
    {
     "data": {
      "text/html": [
       "<div>\n",
       "<style scoped>\n",
       "    .dataframe tbody tr th:only-of-type {\n",
       "        vertical-align: middle;\n",
       "    }\n",
       "\n",
       "    .dataframe tbody tr th {\n",
       "        vertical-align: top;\n",
       "    }\n",
       "\n",
       "    .dataframe thead th {\n",
       "        text-align: right;\n",
       "    }\n",
       "</style>\n",
       "<table border=\"1\" class=\"dataframe\">\n",
       "  <thead>\n",
       "    <tr style=\"text-align: right;\">\n",
       "      <th></th>\n",
       "      <th>Logical quotient rating</th>\n",
       "      <th>hackathons</th>\n",
       "      <th>coding skills rating</th>\n",
       "      <th>public speaking points</th>\n",
       "      <th>self-learning capability?</th>\n",
       "      <th>Extra-courses did</th>\n",
       "      <th>certifications</th>\n",
       "      <th>reading and writing skills</th>\n",
       "      <th>memory capability score</th>\n",
       "      <th>Interested subjects</th>\n",
       "      <th>interested career area</th>\n",
       "      <th>Type of company want to settle in?</th>\n",
       "      <th>Taken inputs from seniors or elders</th>\n",
       "      <th>Management or Technical</th>\n",
       "      <th>hard/smart worker</th>\n",
       "      <th>worked in teams ever?</th>\n",
       "      <th>Introvert</th>\n",
       "      <th>Suggested Job Role</th>\n",
       "    </tr>\n",
       "  </thead>\n",
       "  <tbody>\n",
       "    <tr>\n",
       "      <th>0</th>\n",
       "      <td>5</td>\n",
       "      <td>0</td>\n",
       "      <td>6</td>\n",
       "      <td>2</td>\n",
       "      <td>1</td>\n",
       "      <td>0</td>\n",
       "      <td>2</td>\n",
       "      <td>0</td>\n",
       "      <td>0</td>\n",
       "      <td>4</td>\n",
       "      <td>5</td>\n",
       "      <td>3</td>\n",
       "      <td>0</td>\n",
       "      <td>1</td>\n",
       "      <td>1</td>\n",
       "      <td>1</td>\n",
       "      <td>0</td>\n",
       "      <td>Applications Developer</td>\n",
       "    </tr>\n",
       "    <tr>\n",
       "      <th>1</th>\n",
       "      <td>7</td>\n",
       "      <td>6</td>\n",
       "      <td>4</td>\n",
       "      <td>3</td>\n",
       "      <td>0</td>\n",
       "      <td>1</td>\n",
       "      <td>3</td>\n",
       "      <td>2</td>\n",
       "      <td>1</td>\n",
       "      <td>9</td>\n",
       "      <td>1</td>\n",
       "      <td>7</td>\n",
       "      <td>1</td>\n",
       "      <td>0</td>\n",
       "      <td>0</td>\n",
       "      <td>0</td>\n",
       "      <td>1</td>\n",
       "      <td>Applications Developer</td>\n",
       "    </tr>\n",
       "    <tr>\n",
       "      <th>2</th>\n",
       "      <td>2</td>\n",
       "      <td>3</td>\n",
       "      <td>9</td>\n",
       "      <td>1</td>\n",
       "      <td>0</td>\n",
       "      <td>1</td>\n",
       "      <td>2</td>\n",
       "      <td>2</td>\n",
       "      <td>0</td>\n",
       "      <td>7</td>\n",
       "      <td>3</td>\n",
       "      <td>8</td>\n",
       "      <td>1</td>\n",
       "      <td>0</td>\n",
       "      <td>1</td>\n",
       "      <td>0</td>\n",
       "      <td>0</td>\n",
       "      <td>Applications Developer</td>\n",
       "    </tr>\n",
       "    <tr>\n",
       "      <th>3</th>\n",
       "      <td>2</td>\n",
       "      <td>6</td>\n",
       "      <td>3</td>\n",
       "      <td>5</td>\n",
       "      <td>0</td>\n",
       "      <td>1</td>\n",
       "      <td>1</td>\n",
       "      <td>2</td>\n",
       "      <td>0</td>\n",
       "      <td>5</td>\n",
       "      <td>5</td>\n",
       "      <td>4</td>\n",
       "      <td>1</td>\n",
       "      <td>1</td>\n",
       "      <td>1</td>\n",
       "      <td>1</td>\n",
       "      <td>1</td>\n",
       "      <td>Applications Developer</td>\n",
       "    </tr>\n",
       "    <tr>\n",
       "      <th>4</th>\n",
       "      <td>2</td>\n",
       "      <td>0</td>\n",
       "      <td>3</td>\n",
       "      <td>4</td>\n",
       "      <td>1</td>\n",
       "      <td>0</td>\n",
       "      <td>8</td>\n",
       "      <td>2</td>\n",
       "      <td>1</td>\n",
       "      <td>1</td>\n",
       "      <td>1</td>\n",
       "      <td>3</td>\n",
       "      <td>0</td>\n",
       "      <td>0</td>\n",
       "      <td>0</td>\n",
       "      <td>1</td>\n",
       "      <td>0</td>\n",
       "      <td>Applications Developer</td>\n",
       "    </tr>\n",
       "  </tbody>\n",
       "</table>\n",
       "</div>"
      ],
      "text/plain": [
       "   Logical quotient rating  hackathons  coding skills rating  \\\n",
       "0                        5           0                     6   \n",
       "1                        7           6                     4   \n",
       "2                        2           3                     9   \n",
       "3                        2           6                     3   \n",
       "4                        2           0                     3   \n",
       "\n",
       "   public speaking points  self-learning capability?  Extra-courses did  \\\n",
       "0                       2                          1                  0   \n",
       "1                       3                          0                  1   \n",
       "2                       1                          0                  1   \n",
       "3                       5                          0                  1   \n",
       "4                       4                          1                  0   \n",
       "\n",
       "   certifications  reading and writing skills  memory capability score  \\\n",
       "0               2                           0                        0   \n",
       "1               3                           2                        1   \n",
       "2               2                           2                        0   \n",
       "3               1                           2                        0   \n",
       "4               8                           2                        1   \n",
       "\n",
       "   Interested subjects  interested career area   \\\n",
       "0                    4                        5   \n",
       "1                    9                        1   \n",
       "2                    7                        3   \n",
       "3                    5                        5   \n",
       "4                    1                        1   \n",
       "\n",
       "   Type of company want to settle in?  Taken inputs from seniors or elders  \\\n",
       "0                                   3                                    0   \n",
       "1                                   7                                    1   \n",
       "2                                   8                                    1   \n",
       "3                                   4                                    1   \n",
       "4                                   3                                    0   \n",
       "\n",
       "   Management or Technical  hard/smart worker  worked in teams ever?  \\\n",
       "0                        1                  1                      1   \n",
       "1                        0                  0                      0   \n",
       "2                        0                  1                      0   \n",
       "3                        1                  1                      1   \n",
       "4                        0                  0                      1   \n",
       "\n",
       "   Introvert      Suggested Job Role  \n",
       "0          0  Applications Developer  \n",
       "1          1  Applications Developer  \n",
       "2          0  Applications Developer  \n",
       "3          1  Applications Developer  \n",
       "4          0  Applications Developer  "
      ]
     },
     "execution_count": 20,
     "metadata": {},
     "output_type": "execute_result"
    }
   ],
   "source": [
    "df.head()"
   ]
  },
  {
   "cell_type": "code",
   "execution_count": 21,
   "metadata": {
    "colab": {
     "base_uri": "https://localhost:8080/"
    },
    "execution": {
     "iopub.execute_input": "2021-05-21T09:15:06.492745Z",
     "iopub.status.busy": "2021-05-21T09:15:06.492131Z",
     "iopub.status.idle": "2021-05-21T09:15:06.506687Z",
     "shell.execute_reply": "2021-05-21T09:15:06.505612Z",
     "shell.execute_reply.started": "2021-05-21T09:15:06.492706Z"
    },
    "id": "DeRUjZNlnvsX",
    "outputId": "0518820c-9939-400e-b34a-329d1a6220a8"
   },
   "outputs": [
    {
     "name": "stdout",
     "output_type": "stream",
     "text": [
      "List of Numerical features: \n",
      " ['Logical quotient rating', 'hackathons', 'coding skills rating', 'public speaking points', 'self-learning capability?', 'Extra-courses did', 'certifications', 'reading and writing skills', 'memory capability score', 'Interested subjects', 'interested career area ', 'Type of company want to settle in?', 'Taken inputs from seniors or elders', 'Management or Technical', 'hard/smart worker', 'worked in teams ever?', 'Introvert']\n"
     ]
    }
   ],
   "source": [
    "print(\"List of Numerical features: \\n\" , df.select_dtypes(include=np.number).columns.tolist())"
   ]
  },
  {
   "cell_type": "markdown",
   "metadata": {
    "id": "COjnSUeKnvsY"
   },
   "source": [
    "Building Machine Learning Model"
   ]
  },
  {
   "cell_type": "code",
   "execution_count": 22,
   "metadata": {
    "execution": {
     "iopub.execute_input": "2021-05-21T09:15:08.496869Z",
     "iopub.status.busy": "2021-05-21T09:15:08.496508Z",
     "iopub.status.idle": "2021-05-21T09:15:08.512249Z",
     "shell.execute_reply": "2021-05-21T09:15:08.510942Z",
     "shell.execute_reply.started": "2021-05-21T09:15:08.496837Z"
    },
    "id": "UKlwV-5xnvsY"
   },
   "outputs": [],
   "source": [
    "feed = df[['Logical quotient rating', 'hackathons', 'coding skills rating',\n",
    "       'public speaking points', 'self-learning capability?',\n",
    "       'Extra-courses did', 'certifications', 'reading and writing skills',\n",
    "       'memory capability score', 'Interested subjects',\n",
    "       'interested career area ', 'Type of company want to settle in?',\n",
    "       'Taken inputs from seniors or elders', 'Management or Technical',\n",
    "       'hard/smart worker', 'worked in teams ever?', 'Introvert',\n",
    "             'Suggested Job Role']]\n",
    "\n",
    "# Taking all independent variable columns\n",
    "df_train_x = feed.drop('Suggested Job Role',axis = 1)\n",
    "\n",
    "# Target variable column\n",
    "df_train_y = feed['Suggested Job Role']\n",
    "\n",
    "x_train, x_test, y_train, y_test = train_test_split(df_train_x, df_train_y, test_size=0.40, random_state=62)\n"
   ]
  },
  {
   "cell_type": "markdown",
   "metadata": {
    "id": "gxEEmFXhnvsY"
   },
   "source": [
    "Decision Tree Classifier"
   ]
  },
  {
   "cell_type": "code",
   "execution_count": 23,
   "metadata": {
    "colab": {
     "base_uri": "https://localhost:8080/"
    },
    "execution": {
     "iopub.execute_input": "2021-05-21T09:15:13.994959Z",
     "iopub.status.busy": "2021-05-21T09:15:13.994602Z",
     "iopub.status.idle": "2021-05-21T09:15:14.071007Z",
     "shell.execute_reply": "2021-05-21T09:15:14.069396Z",
     "shell.execute_reply.started": "2021-05-21T09:15:13.994928Z"
    },
    "id": "wpG0My7PnvsY",
    "outputId": "f81d2cb4-d966-4183-faa0-6ded2eb6d4e6"
   },
   "outputs": [
    {
     "name": "stdout",
     "output_type": "stream",
     "text": [
      "confusion matrics= [[17 16 12 18 12 17 22 21 20 16 17 23]\n",
      " [22 22 16 25 13 21 23 14 19 19 19 15]\n",
      " [15 14 11 25 22 25 12 22 26 21 22 19]\n",
      " [16 11 16 19 20 20 14 21 17 25 17 13]\n",
      " [25 23 18 24 18 23 25 28 19 21 20 23]\n",
      " [26 17 24 19 13 21 20 23 12 18 18 26]\n",
      " [10 19 17 20 22 14 22 21 16 18 17 25]\n",
      " [12 17 27 20 13 19 16 21 20 16 16 23]\n",
      " [21 24 19 20 18 18 20 19 19 18 15 20]\n",
      " [17 19 17 27 27 20 19 20 19 24 16 16]\n",
      " [17 20 22 24 18 17 13 18 30 19 19 23]\n",
      " [14 18 21 18 17 23 14 23 24 23 10 17]]\n",
      "  \n",
      "accuracy= 8.33031510322347\n"
     ]
    }
   ],
   "source": [
    "clf = tree.DecisionTreeClassifier()\n",
    "clf = clf.fit(x_train, y_train)\n",
    "\n",
    "\n",
    "y_pred = clf.predict(x_test)\n",
    "cm = confusion_matrix(y_test,y_pred)\n",
    "accuracy = accuracy_score(y_test,y_pred)\n",
    "print(\"confusion matrics=\",cm)\n",
    "print(\"  \")\n",
    "print(\"accuracy=\",accuracy*100)"
   ]
  },
  {
   "cell_type": "markdown",
   "metadata": {
    "id": "32XmP7OMnvsY"
   },
   "source": [
    "Predicting class"
   ]
  },
  {
   "cell_type": "code",
   "execution_count": 24,
   "metadata": {
    "colab": {
     "base_uri": "https://localhost:8080/"
    },
    "execution": {
     "iopub.execute_input": "2021-05-21T09:15:16.340785Z",
     "iopub.status.busy": "2021-05-21T09:15:16.340422Z",
     "iopub.status.idle": "2021-05-21T09:15:16.349794Z",
     "shell.execute_reply": "2021-05-21T09:15:16.348558Z",
     "shell.execute_reply.started": "2021-05-21T09:15:16.340753Z"
    },
    "id": "UdhHzXV0nvsZ",
    "outputId": "8497acbd-7108-4cdf-e06d-71aed820c7e4"
   },
   "outputs": [
    {
     "name": "stdout",
     "output_type": "stream",
     "text": [
      "['Applications Developer']\n",
      "Probabilities of all classes:  [[1. 0. 0. 0. 0. 0. 0. 0. 0. 0. 0. 0.]]\n",
      "Probability of Predicted class :  1.0\n"
     ]
    },
    {
     "name": "stderr",
     "output_type": "stream",
     "text": [
      "C:\\Users\\mahad\\anaconda3\\lib\\site-packages\\sklearn\\base.py:450: UserWarning: X does not have valid feature names, but DecisionTreeClassifier was fitted with feature names\n",
      "  warnings.warn(\n",
      "C:\\Users\\mahad\\anaconda3\\lib\\site-packages\\sklearn\\base.py:450: UserWarning: X does not have valid feature names, but DecisionTreeClassifier was fitted with feature names\n",
      "  warnings.warn(\n"
     ]
    }
   ],
   "source": [
    "userdata = [['5','0','6','2','1','0','2','0','0','4','5','3','0','1','1','1','0']]\n",
    "ynewclass = clf.predict(userdata)\n",
    "ynew = clf.predict_proba(userdata)\n",
    "print(ynewclass)\n",
    "print(\"Probabilities of all classes: \", ynew)\n",
    "print(\"Probability of Predicted class : \", np.max(ynew))"
   ]
  }
 ],
 "metadata": {
  "colab": {
   "collapsed_sections": [],
   "provenance": []
  },
  "kernelspec": {
   "display_name": "Python 3 (ipykernel)",
   "language": "python",
   "name": "python3"
  },
  "language_info": {
   "codemirror_mode": {
    "name": "ipython",
    "version": 3
   },
   "file_extension": ".py",
   "mimetype": "text/x-python",
   "name": "python",
   "nbconvert_exporter": "python",
   "pygments_lexer": "ipython3",
   "version": "3.9.12"
  }
 },
 "nbformat": 4,
 "nbformat_minor": 1
}
